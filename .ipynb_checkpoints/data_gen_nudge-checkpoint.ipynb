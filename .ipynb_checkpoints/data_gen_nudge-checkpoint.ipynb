{
 "cells": [
  {
   "cell_type": "code",
   "execution_count": 2,
   "metadata": {},
   "outputs": [],
   "source": [
    "import random\n",
    "import string\n",
    "import math\n",
    "import pandas as pd"
   ]
  },
  {
   "cell_type": "code",
   "execution_count": 9,
   "metadata": {},
   "outputs": [
    {
     "data": {
      "text/plain": [
       "'303710607'"
      ]
     },
     "execution_count": 9,
     "metadata": {},
     "output_type": "execute_result"
    }
   ],
   "source": [
    "\"\".join([str(random.choice([0,1,2,3,4,5,6,7,8,9])) for i in range(9)])"
   ]
  },
  {
   "cell_type": "code",
   "execution_count": 11,
   "metadata": {},
   "outputs": [],
   "source": [
    "def ran_phone_gen():\n",
    "    \n",
    "    phone = \"\".join([str(random.choice([0,1,2,3,4,5,6,7,8,9])) for i in range(9)])\n",
    "    base = \"971\"\n",
    "    \n",
    "    return base+phone"
   ]
  },
  {
   "cell_type": "code",
   "execution_count": 28,
   "metadata": {},
   "outputs": [],
   "source": [
    "list_dates = [\"202001\", \"202002\", \"202003\", \"202004\", \"202005\", \"202006\", \n",
    "              \"202007\", \"202008\", \"202009\", \"202010\", \"202011\", \"202012\"\n",
    "             ]"
   ]
  },
  {
   "cell_type": "code",
   "execution_count": 26,
   "metadata": {},
   "outputs": [],
   "source": [
    "# df_a = pd.DataFrame({\n",
    "#     \"user_phone_id\": [ran_phone_gen() for i in range(4000)],\n",
    "#     \"nudge_id\": \"variant_a\"\n",
    "# })\n",
    "\n",
    "# df_b = pd.DataFrame({\n",
    "#     \"user_phone_id\": [ran_phone_gen() for i in range(4000)],\n",
    "#     \"nudge_id\": \"variant_b\"\n",
    "# })\n",
    "\n",
    "# df_c = pd.DataFrame({\n",
    "#     \"user_phone_id\": [ran_phone_gen() for i in range(2000)],\n",
    "#     \"nudge_id\": \"control\"\n",
    "# })"
   ]
  },
  {
   "cell_type": "code",
   "execution_count": 38,
   "metadata": {},
   "outputs": [],
   "source": [
    "rows = []\n",
    "\n",
    "for i in range(10000):\n",
    "    _p = ran_phone_gen()\n",
    "    for l in list_dates:\n",
    "        rows.append([_p, l])"
   ]
  },
  {
   "cell_type": "code",
   "execution_count": 39,
   "metadata": {},
   "outputs": [],
   "source": [
    "df_base = pd.DataFrame(rows, columns=[\"user_phone_id\", \"dim_date_month\"])"
   ]
  },
  {
   "cell_type": "code",
   "execution_count": 40,
   "metadata": {},
   "outputs": [],
   "source": [
    "df_base[\"nudge_id\"] = \"\""
   ]
  },
  {
   "cell_type": "code",
   "execution_count": 43,
   "metadata": {},
   "outputs": [
    {
     "data": {
      "text/plain": [
       "(48000, 96000, 120000)"
      ]
     },
     "execution_count": 43,
     "metadata": {},
     "output_type": "execute_result"
    }
   ],
   "source": [
    "4000 * 12, 8000 * 12, 10000 * 12"
   ]
  },
  {
   "cell_type": "code",
   "execution_count": 44,
   "metadata": {},
   "outputs": [],
   "source": [
    "df_base.loc[0:48000, \"nudge_id\"] = \"variant_a\"\n",
    "df_base.loc[48000:96000, \"nudge_id\"] = \"variant_b\"\n",
    "df_base.loc[96000:120000, \"nudge_id\"] = \"control\""
   ]
  },
  {
   "cell_type": "code",
   "execution_count": 45,
   "metadata": {},
   "outputs": [
    {
     "data": {
      "text/html": [
       "<div>\n",
       "<style scoped>\n",
       "    .dataframe tbody tr th:only-of-type {\n",
       "        vertical-align: middle;\n",
       "    }\n",
       "\n",
       "    .dataframe tbody tr th {\n",
       "        vertical-align: top;\n",
       "    }\n",
       "\n",
       "    .dataframe thead th {\n",
       "        text-align: right;\n",
       "    }\n",
       "</style>\n",
       "<table border=\"1\" class=\"dataframe\">\n",
       "  <thead>\n",
       "    <tr style=\"text-align: right;\">\n",
       "      <th></th>\n",
       "      <th>user_phone_id</th>\n",
       "      <th>dim_date_month</th>\n",
       "      <th>nudge_id</th>\n",
       "    </tr>\n",
       "  </thead>\n",
       "  <tbody>\n",
       "    <tr>\n",
       "      <th>0</th>\n",
       "      <td>971307057906</td>\n",
       "      <td>202001</td>\n",
       "      <td>variant_a</td>\n",
       "    </tr>\n",
       "    <tr>\n",
       "      <th>1</th>\n",
       "      <td>971307057906</td>\n",
       "      <td>202002</td>\n",
       "      <td>variant_a</td>\n",
       "    </tr>\n",
       "    <tr>\n",
       "      <th>2</th>\n",
       "      <td>971307057906</td>\n",
       "      <td>202003</td>\n",
       "      <td>variant_a</td>\n",
       "    </tr>\n",
       "    <tr>\n",
       "      <th>3</th>\n",
       "      <td>971307057906</td>\n",
       "      <td>202004</td>\n",
       "      <td>variant_a</td>\n",
       "    </tr>\n",
       "    <tr>\n",
       "      <th>4</th>\n",
       "      <td>971307057906</td>\n",
       "      <td>202005</td>\n",
       "      <td>variant_a</td>\n",
       "    </tr>\n",
       "    <tr>\n",
       "      <th>...</th>\n",
       "      <td>...</td>\n",
       "      <td>...</td>\n",
       "      <td>...</td>\n",
       "    </tr>\n",
       "    <tr>\n",
       "      <th>119995</th>\n",
       "      <td>971458045311</td>\n",
       "      <td>202008</td>\n",
       "      <td>control</td>\n",
       "    </tr>\n",
       "    <tr>\n",
       "      <th>119996</th>\n",
       "      <td>971458045311</td>\n",
       "      <td>202009</td>\n",
       "      <td>control</td>\n",
       "    </tr>\n",
       "    <tr>\n",
       "      <th>119997</th>\n",
       "      <td>971458045311</td>\n",
       "      <td>202010</td>\n",
       "      <td>control</td>\n",
       "    </tr>\n",
       "    <tr>\n",
       "      <th>119998</th>\n",
       "      <td>971458045311</td>\n",
       "      <td>202011</td>\n",
       "      <td>control</td>\n",
       "    </tr>\n",
       "    <tr>\n",
       "      <th>119999</th>\n",
       "      <td>971458045311</td>\n",
       "      <td>202012</td>\n",
       "      <td>control</td>\n",
       "    </tr>\n",
       "  </tbody>\n",
       "</table>\n",
       "<p>120000 rows × 3 columns</p>\n",
       "</div>"
      ],
      "text/plain": [
       "       user_phone_id dim_date_month   nudge_id\n",
       "0       971307057906         202001  variant_a\n",
       "1       971307057906         202002  variant_a\n",
       "2       971307057906         202003  variant_a\n",
       "3       971307057906         202004  variant_a\n",
       "4       971307057906         202005  variant_a\n",
       "...              ...            ...        ...\n",
       "119995  971458045311         202008    control\n",
       "119996  971458045311         202009    control\n",
       "119997  971458045311         202010    control\n",
       "119998  971458045311         202011    control\n",
       "119999  971458045311         202012    control\n",
       "\n",
       "[120000 rows x 3 columns]"
      ]
     },
     "execution_count": 45,
     "metadata": {},
     "output_type": "execute_result"
    }
   ],
   "source": [
    "df_base"
   ]
  },
  {
   "cell_type": "code",
   "execution_count": null,
   "metadata": {},
   "outputs": [],
   "source": []
  },
  {
   "cell_type": "code",
   "execution_count": 51,
   "metadata": {},
   "outputs": [],
   "source": [
    "def nudge_indicator_gen(row):\n",
    "    if row.nudge_id == \"variant_a\":\n",
    "        return random.choices([0,1], k=1, weights=[0.4, 0.6])[0]\n",
    "    elif row.nudge_id == \"variant_b\":\n",
    "        return random.choices([0,1], k=1, weights=[0.6, 0.4])[0]\n",
    "    else:\n",
    "        return random.choices([0,1], k=1, weights=[0.85, 0.15])[0]"
   ]
  },
  {
   "cell_type": "code",
   "execution_count": 53,
   "metadata": {},
   "outputs": [],
   "source": [
    "df_base[\"m_o_m_fin_health_indicator\"] = df_base.apply(lambda row: nudge_indicator_gen(row), axis=1)"
   ]
  },
  {
   "cell_type": "code",
   "execution_count": 54,
   "metadata": {},
   "outputs": [],
   "source": [
    "df_base.to_csv(\"sample_generated_nudge_tracking.csv\", index=False)"
   ]
  },
  {
   "cell_type": "code",
   "execution_count": null,
   "metadata": {},
   "outputs": [],
   "source": []
  }
 ],
 "metadata": {
  "kernelspec": {
   "display_name": "Python 3",
   "language": "python",
   "name": "python3"
  },
  "language_info": {
   "codemirror_mode": {
    "name": "ipython",
    "version": 3
   },
   "file_extension": ".py",
   "mimetype": "text/x-python",
   "name": "python",
   "nbconvert_exporter": "python",
   "pygments_lexer": "ipython3",
   "version": "3.7.4"
  }
 },
 "nbformat": 4,
 "nbformat_minor": 2
}
